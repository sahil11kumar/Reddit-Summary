{
 "cells": [
  {
   "cell_type": "code",
   "execution_count": 56,
   "id": "d250c84e",
   "metadata": {},
   "outputs": [],
   "source": [
    "# IMPORT DEPENDENCIES\n",
    "\n",
    "import os\n",
    "import sys\n",
    "import time\n",
    "\n",
    "from selenium import webdriver\n",
    "from selenium.webdriver.support import expected_conditions as EC\n",
    "from selenium.webdriver.edge.options import Options\n",
    "from selenium.webdriver.common.by import By\n",
    "from selenium.webdriver.support.ui import WebDriverWait\n",
    "\n",
    "from openai import OpenAI\n",
    "\n",
    "import json\n",
    "# from collections import Counter\n",
    "# import re\n",
    "# import numpy as np\n",
    "# import matplotlib.pyplot as plt\n",
    "\n",
    "# import nltk\n",
    "# from nltk.corpus import stopwords"
   ]
  },
  {
   "cell_type": "code",
   "execution_count": 57,
   "id": "bd023f67",
   "metadata": {},
   "outputs": [],
   "source": [
    "# SETUP WEBDRIVER\n",
    "\n",
    "path = \"https://www.reddit.com/r/PromptEngineering/top/?t=week\"\n",
    "\n",
    "# Use ChromeOptions for Chrome\n",
    "chrome_options = webdriver.ChromeOptions()\n",
    "chrome_options.add_argument(\"start-maximized\")  # Optional: Start Chrome maximized\n",
    "\n",
    "driver = webdriver.Chrome(options=chrome_options)\n",
    "\n",
    "# Open a website and perform actions\n",
    "driver.get(path)"
   ]
  },
  {
   "cell_type": "code",
   "execution_count": 58,
   "id": "3c6d4b3c",
   "metadata": {},
   "outputs": [
    {
     "name": "stdout",
     "output_type": "stream",
     "text": [
      "Modules Loaded...\n",
      "\n",
      "Running...\n",
      "\n"
     ]
    }
   ],
   "source": [
    "# PRINT STATUS\n",
    "driver.maximize_window()\n",
    "print('Modules Loaded...\\n')\n",
    "print('Running...\\n')"
   ]
  },
  {
   "cell_type": "code",
   "execution_count": 59,
   "id": "da20c963",
   "metadata": {},
   "outputs": [],
   "source": [
    "# LOAD PAGE FUNCTION\n",
    "\n",
    "def Wait_Load_Page_Opportunities(driver, x_path):\n",
    "    wait = WebDriverWait(driver=driver, timeout=30)\n",
    "    wait.until(EC.presence_of_all_elements_located)\n",
    "    element_present = EC.presence_of_element_located((By.XPATH, x_path))\n",
    "    WebDriverWait(driver, 30).until(element_present)\n",
    "\n",
    "def wait_click(driver, x_path):\n",
    "    print(\"wait_click called and initialised for {}\".format(x_path))\n",
    "    WebDriverWait(driver=driver, timeout=10).until(\n",
    "            EC.presence_of_element_located((By.XPATH, x_path))  # Wait for locator\n",
    "        )\n",
    "    time.sleep(5)\n",
    "    driver.find_element(By.XPATH, x_path).click() # Click xpath\n",
    "    print(\"Element clicked at {}\".format(x_path))\n",
    "\n",
    "def wait_text(driver,x_path):\n",
    "    try:\n",
    "        # WebDriverWait(driver=driver, timeout=10).until(\n",
    "        #     EC.presence_of_element_located((By.XPATH, x_path))  # Wait for locator\n",
    "        # )\n",
    "        time.sleep(5)\n",
    "        text = driver.find_element(By.XPATH, x_path).text # Select text\n",
    "        print(\"FOUND\")\n",
    "        return(text)\n",
    "    except:\n",
    "        return(\"Not FOUND\")"
   ]
  },
  {
   "cell_type": "code",
   "execution_count": 49,
   "id": "ce3efe1b",
   "metadata": {},
   "outputs": [],
   "source": [
    "# LOGIN \n",
    "\n",
    "# user_id = \"11sahilkr@gmail.com\"  # First line is the user ID\n",
    "# password = \"Dfbi7233@\"  # Second line is the password\n",
    "\n",
    "# driver.find_element(By.XPATH, '//*[@id=\"username\"]').send_keys(user_id) # Input email\n",
    "# # driver.find_element(By.XPATH, '//*[@id=\"identifierNext\"]/div/button').click() # Login button\n",
    "\n",
    "# driver.find_element(By.XPATH, '//*[@id=\"password\"]').send_keys(password) # Input email\n",
    "# driver.find_element(By.XPATH, '//*[@class=\"login__form_action_container \"]/button').click() # Login button\n",
    "\n",
    "# input(\"Press Enter after logging in...\")\n"
   ]
  },
  {
   "cell_type": "code",
   "execution_count": 50,
   "id": "52011a19",
   "metadata": {},
   "outputs": [],
   "source": [
    "# SELECT WEEKLY RESULTS\n",
    "\n",
    "# dd_1 = '//*[@id=\"main-content\"]/div[1]/shreddit-async-loader/div/div/shreddit-sort-dropdown[1]'\n",
    "# sorter_1 = \"TOP\"  # Options: HOT, NEW, TOP, CONTROVERSIAL, RISING\n",
    "\n",
    "# driver.find_element(By.XPATH, dd_1).click()\n",
    "# driver.find_element(By.XPATH, '{}//data[@value=\"{}\"]/li/a'.format(dd_1, sorter_1)).click()\n",
    "# # print('{}//data[@value=\"{}\"]/li/a'.format(dd1, sorter))\n",
    "\n",
    "\n",
    "# dd_2 = '//*[@id=\"main-content\"]/div[1]/shreddit-async-loader/div/div/shreddit-sort-dropdown[2]'\n",
    "# sorter_2 = \"WEEK\"  # Options: HOUR, DAY, WEEK, MONTH, YEAR, ALL\n",
    "\n",
    "# driver.find_element(By.XPATH, dd_2).click()\n",
    "# driver.find_element(By.XPATH, '{}//data[@value=\"{}\"]/li/a'.format(dd_2, sorter_2)).click()\n",
    "# # print('{}//data[@value=\"{}\"]/li\n"
   ]
  },
  {
   "cell_type": "code",
   "execution_count": 60,
   "id": "6c19ad80",
   "metadata": {},
   "outputs": [],
   "source": [
    "# CLOSE COOKIE BOX\n",
    "\n",
    "driver.find_element(By.XPATH, '//*[@id=\"data-protection-consent-dialog\"]/rpl-modal-card/div[3]/button').click()"
   ]
  },
  {
   "cell_type": "code",
   "execution_count": 61,
   "id": "7701fc7d",
   "metadata": {},
   "outputs": [],
   "source": [
    "def read_post():\n",
    "    wait_text(driver, '//shreddit-post[1]/div[@slot=\"post-content\"]/div')\n",
    "\n",
    "    op = driver.find_element(By.XPATH, '//shreddit-post[1]/div[@slot=\"credit-bar\"]/span/div/div/span/div/faceplate-hovercard').get_attribute('label').split(' ')[0]\n",
    "    title = driver.find_element(By.XPATH, '//shreddit-post//h1').text\n",
    "    body = driver.find_element(By.XPATH, '//shreddit-post-text-body/div/div/div').text\n",
    "    \n",
    "    return_res = [op, title, body]\n",
    "    \n",
    "    print(return_res)\n",
    "    return return_res\n"
   ]
  },
  {
   "cell_type": "code",
   "execution_count": 62,
   "id": "d3b184d7",
   "metadata": {},
   "outputs": [
    {
     "name": "stdout",
     "output_type": "stream",
     "text": [
      "['speak2klein', 'This prompt makes ChatGPT sound completely human', 'In the past few months I have been using an AI tool for SaaS founders. One of the biggest struggles I had was how to make AI sound human. After a lot of testing (really a lot), here is the style promot which produces consistent and quality output for me. Hopefully you find it useful.\\nInstructions:\\nUse active voice\\nInstead of: \"The meeting was canceled by management.\"\\nUse: \"Management canceled the meeting.\"\\nAddress readers directly with \"you\" and \"your\"\\nExample: \"You\\'ll find these strategies save time.\"\\nBe direct and concise\\nExample: \"Call me at 3pm.\"\\nUse simple language\\nExample: \"We need to fix this problem.\"\\nStay away from fluff\\nExample: \"The project failed.\"\\nFocus on clarity\\nExample: \"Submit your expense report by Friday.\"\\nVary sentence structures (short, medium, long) to create rhythm\\nExample: \"Stop. Think about what happened. Consider how we might prevent similar issues in the future.\"\\nMaintain a natural/conversational tone\\nExample: \"But that\\'s not how it works in real life.\"\\nKeep it real\\nExample: \"This approach has problems.\"\\nAvoid marketing language\\nAvoid: \"Our cutting-edge solution delivers unparalleled results.\"\\nUse instead: \"Our tool can help you track expenses.\"\\nSimplify grammar\\nExample: \"yeah we can do that tomorrow.\"\\nAvoid AI-philler phrases\\nAvoid: \"Let\\'s explore this fascinating opportunity.\"\\nUse instead: \"Here\\'s what we know.\"\\nAvoid (important!):\\nClichés, jargon, hashtags, semicolons, emojis, and asterisks, dashes\\nInstead of: \"Let\\'s touch base to move the needle on this mission-critical deliverable.\"\\nUse: \"Let\\'s meet to discuss how to improve this important project.\"\\nConditional language (could, might, may) when certainty is possible\\nInstead of: \"This approach might improve results.\"\\nUse: \"This approach improves results.\"\\nRedundancy and repetition (remove fluff!)\\nMeanwhile I also found this tool by Founderpath that’s kind of an expert GPT model for startups. So if you’re in that world you’ll probably get more startup refined results compared to the general model ChatGPT. Just thought to share\\nhope this helps! (Kindly upvote so people can see it)']\n",
      "['tipseason', '5 ChatGPT Frameworks That Will 10x Your Results (Copy + Paste)', 'Most people type random questions into ChatGPT and hope for magic. But the best outputs come when you give it structure. Over the last year I’ve tested dozens of “frameworks” for prompting, and these 5 consistently give the most useful results across almost any topic.\\n1. The Role + Goal Framework Tell ChatGPT who it is and what outcome you want. Prompt:\\n“You are a [role, e.g., financial coach]. My goal is [outcome, e.g., save $500/month]. Walk me through a 30-day plan step by step.”\\nWhy it works: Narrowing the role focuses tone and perspective. Defining the goal prevents vague advice.\\n2. The 5Q Clarifier Instead of dumping a messy question, ask ChatGPT to ask you 5 clarifying questions before giving an answer. Prompt:\\n“Before answering, ask me 5 clarifying questions. Then provide a tailored solution with examples.”\\nWhy it works: ChatGPT pulls better context from you first, so the final answer feels like it was written for you.\\n3. The “Options → Compare → Decide” Flow When you need to choose between paths. Prompt:\\n“Give me 3 different approaches to [problem]. Compare them side by side (pros, cons, risks). End by recommending the best option based on my constraints.”\\nWhy it works: Forces the model into structured thinking instead of dumping a wall of text.\\n4. The Iterative Refiner Never settle for the first draft. Prompt:\\n“Give me a rough draft of [X]. Then, based on my feedback, refine it in 3 iterations: 1) Expand ideas, 2) Make it concise, 3) Polish for tone.”\\nWhy it works: Breaks big tasks into steps, mimicking how humans draft, edit, and finalize.\\n5. The Checklist Builder Turn vague tasks into actionable steps. Prompt:\\n“Turn [goal or task] into a step-by-step checklist with timelines, tools needed, and common mistakes to avoid.”\\nWhy it works: Converts abstract ideas into something you can actually execute today.\\n💡 Pro Tip: Save the frameworks you like. The biggest mistake is starting from scratch every time.\\n👉 I keep mine organized inside my own Prompt Hub (free to use just in case): AISuperHub Prompt Hub']\n",
      "['BymaxTheVibeCoder', \"Vibe Coding: A Beginner's Guide\", \"Hey there, code-curious folks! I put together a quick guide with easy steps to jump into vibe coding. If you’ve been curious about coding with AI, this is an easy way to dip your toes in!\\nWhat is Vibe Coding?\\nVibe coding is all about using AI to write code by describing your ideas. Instead of memorizing syntax, you tell the AI what you want (e.g., “Make a webpage with a blue background”), and it generates the code for you. It’s like having a junior developer who needs clear instructions but works fast!\\nSteps to Get Started\\nPick a tool like Cursor (a VS Code-like editor with AI features) or you might also want to explore Base44, which offers AI-driven coding solutions tailored for rapid prototyping, while Cursor requires installation but has a slick AI chat panel.\\nStart tiny: Begin with something small, like a webpage or a simple script. In Cursor or Base44’s editor, create a new file or directory. This gives the AI a canvas to generate code. Base44’s platform, for instance, provides pre-built templates to streamline this step.\\nWrite a Clear Prompt: The magic of vibe coding happens here. In the AI chat panel (like Base44’s code assistant or Cursor’s Composer), describe your goal clearly. For example: “Create a webpage that says ‘Hello World’ with a blue background.” Clarity is key.\\nInsert the Code Simply apply the code to your project to see it take shape.\\nTest the Code Run your code to verify it works.\\nRefine and Add Features Rarely is the first output perfect. If it’s not quite right, refine your prompt: “Make the text larger and centered.” Got an error? Paste it into the AI chat and ask, “How do I fix this?” Tools like Base44’s AI assistant are great at debugging and explaining errors. This iterative process is the heart of vibe coding.\\nRepeat the Cycle Build feature by feature, testing each time. You’ll learn how the AI translates your words into code and maybe pick up some coding basics along the way.\\nExample: Building a To-Do List App\\nPrompt 1: “Create an HTML page with an input box, 'Add' button, and task list section.” -> AI generates the structure.\\nTest: The page loads, but the button is inactive.\\nPrompt 2: “When the button is clicked, add the input text to the list and clear the input.” -> AI adds JavaScript with an event listener.\\nTest: It works, but empty inputs get added.\\nPrompt 3: “Don’t add empty tasks.” -> AI adds a check for empty strings.\\nPrompt 4: “Store tasks in local storage to persist after refresh.” -> AI implements localStorage. You’ve now got a working to-do app, all by describing your needs to the AI.\\nBest Practices for Vibe Coding\\nBe Specific: Instead of “Make it pretty,” say “Add a green button with rounded corners.” Detailed prompts yield better results.\\nStart Small: Build a minimal version first, then add features. This works well with platforms like Base44, which support incremental development.\\nReview & Test: Always check the AI’s code and test frequently to catch bugs early.\\nGuide the AI: Treat it like a junior developer- provide clear feedback or examples to steer it.\\nLearn as You Go: Ask the AI to explain code to build your understanding.\\nSave Your Work: Use versioning to revert if needed.\\nExplore Community Resources: Check documentation for templates and tips to enhance your vibe coding experience.\\nLimitations to Watch For\\nBugs: AI-generated code can have errors or security flaws, so test thoroughly.\\nContext: AI may lose track of large projects- remind it of key details or use tools like Base44 that index your code for better context.\\nCode Quality: The output might work but be messy- prompt for refactoring if needed.\\nSo… did it vibe?\"]\n",
      "[['speak2klein', 'This prompt makes ChatGPT sound completely human', 'In the past few months I have been using an AI tool for SaaS founders. One of the biggest struggles I had was how to make AI sound human. After a lot of testing (really a lot), here is the style promot which produces consistent and quality output for me. Hopefully you find it useful.\\nInstructions:\\nUse active voice\\nInstead of: \"The meeting was canceled by management.\"\\nUse: \"Management canceled the meeting.\"\\nAddress readers directly with \"you\" and \"your\"\\nExample: \"You\\'ll find these strategies save time.\"\\nBe direct and concise\\nExample: \"Call me at 3pm.\"\\nUse simple language\\nExample: \"We need to fix this problem.\"\\nStay away from fluff\\nExample: \"The project failed.\"\\nFocus on clarity\\nExample: \"Submit your expense report by Friday.\"\\nVary sentence structures (short, medium, long) to create rhythm\\nExample: \"Stop. Think about what happened. Consider how we might prevent similar issues in the future.\"\\nMaintain a natural/conversational tone\\nExample: \"But that\\'s not how it works in real life.\"\\nKeep it real\\nExample: \"This approach has problems.\"\\nAvoid marketing language\\nAvoid: \"Our cutting-edge solution delivers unparalleled results.\"\\nUse instead: \"Our tool can help you track expenses.\"\\nSimplify grammar\\nExample: \"yeah we can do that tomorrow.\"\\nAvoid AI-philler phrases\\nAvoid: \"Let\\'s explore this fascinating opportunity.\"\\nUse instead: \"Here\\'s what we know.\"\\nAvoid (important!):\\nClichés, jargon, hashtags, semicolons, emojis, and asterisks, dashes\\nInstead of: \"Let\\'s touch base to move the needle on this mission-critical deliverable.\"\\nUse: \"Let\\'s meet to discuss how to improve this important project.\"\\nConditional language (could, might, may) when certainty is possible\\nInstead of: \"This approach might improve results.\"\\nUse: \"This approach improves results.\"\\nRedundancy and repetition (remove fluff!)\\nMeanwhile I also found this tool by Founderpath that’s kind of an expert GPT model for startups. So if you’re in that world you’ll probably get more startup refined results compared to the general model ChatGPT. Just thought to share\\nhope this helps! (Kindly upvote so people can see it)'], ['tipseason', '5 ChatGPT Frameworks That Will 10x Your Results (Copy + Paste)', 'Most people type random questions into ChatGPT and hope for magic. But the best outputs come when you give it structure. Over the last year I’ve tested dozens of “frameworks” for prompting, and these 5 consistently give the most useful results across almost any topic.\\n1. The Role + Goal Framework Tell ChatGPT who it is and what outcome you want. Prompt:\\n“You are a [role, e.g., financial coach]. My goal is [outcome, e.g., save $500/month]. Walk me through a 30-day plan step by step.”\\nWhy it works: Narrowing the role focuses tone and perspective. Defining the goal prevents vague advice.\\n2. The 5Q Clarifier Instead of dumping a messy question, ask ChatGPT to ask you 5 clarifying questions before giving an answer. Prompt:\\n“Before answering, ask me 5 clarifying questions. Then provide a tailored solution with examples.”\\nWhy it works: ChatGPT pulls better context from you first, so the final answer feels like it was written for you.\\n3. The “Options → Compare → Decide” Flow When you need to choose between paths. Prompt:\\n“Give me 3 different approaches to [problem]. Compare them side by side (pros, cons, risks). End by recommending the best option based on my constraints.”\\nWhy it works: Forces the model into structured thinking instead of dumping a wall of text.\\n4. The Iterative Refiner Never settle for the first draft. Prompt:\\n“Give me a rough draft of [X]. Then, based on my feedback, refine it in 3 iterations: 1) Expand ideas, 2) Make it concise, 3) Polish for tone.”\\nWhy it works: Breaks big tasks into steps, mimicking how humans draft, edit, and finalize.\\n5. The Checklist Builder Turn vague tasks into actionable steps. Prompt:\\n“Turn [goal or task] into a step-by-step checklist with timelines, tools needed, and common mistakes to avoid.”\\nWhy it works: Converts abstract ideas into something you can actually execute today.\\n💡 Pro Tip: Save the frameworks you like. The biggest mistake is starting from scratch every time.\\n👉 I keep mine organized inside my own Prompt Hub (free to use just in case): AISuperHub Prompt Hub'], ['BymaxTheVibeCoder', \"Vibe Coding: A Beginner's Guide\", \"Hey there, code-curious folks! I put together a quick guide with easy steps to jump into vibe coding. If you’ve been curious about coding with AI, this is an easy way to dip your toes in!\\nWhat is Vibe Coding?\\nVibe coding is all about using AI to write code by describing your ideas. Instead of memorizing syntax, you tell the AI what you want (e.g., “Make a webpage with a blue background”), and it generates the code for you. It’s like having a junior developer who needs clear instructions but works fast!\\nSteps to Get Started\\nPick a tool like Cursor (a VS Code-like editor with AI features) or you might also want to explore Base44, which offers AI-driven coding solutions tailored for rapid prototyping, while Cursor requires installation but has a slick AI chat panel.\\nStart tiny: Begin with something small, like a webpage or a simple script. In Cursor or Base44’s editor, create a new file or directory. This gives the AI a canvas to generate code. Base44’s platform, for instance, provides pre-built templates to streamline this step.\\nWrite a Clear Prompt: The magic of vibe coding happens here. In the AI chat panel (like Base44’s code assistant or Cursor’s Composer), describe your goal clearly. For example: “Create a webpage that says ‘Hello World’ with a blue background.” Clarity is key.\\nInsert the Code Simply apply the code to your project to see it take shape.\\nTest the Code Run your code to verify it works.\\nRefine and Add Features Rarely is the first output perfect. If it’s not quite right, refine your prompt: “Make the text larger and centered.” Got an error? Paste it into the AI chat and ask, “How do I fix this?” Tools like Base44’s AI assistant are great at debugging and explaining errors. This iterative process is the heart of vibe coding.\\nRepeat the Cycle Build feature by feature, testing each time. You’ll learn how the AI translates your words into code and maybe pick up some coding basics along the way.\\nExample: Building a To-Do List App\\nPrompt 1: “Create an HTML page with an input box, 'Add' button, and task list section.” -> AI generates the structure.\\nTest: The page loads, but the button is inactive.\\nPrompt 2: “When the button is clicked, add the input text to the list and clear the input.” -> AI adds JavaScript with an event listener.\\nTest: It works, but empty inputs get added.\\nPrompt 3: “Don’t add empty tasks.” -> AI adds a check for empty strings.\\nPrompt 4: “Store tasks in local storage to persist after refresh.” -> AI implements localStorage. You’ve now got a working to-do app, all by describing your needs to the AI.\\nBest Practices for Vibe Coding\\nBe Specific: Instead of “Make it pretty,” say “Add a green button with rounded corners.” Detailed prompts yield better results.\\nStart Small: Build a minimal version first, then add features. This works well with platforms like Base44, which support incremental development.\\nReview & Test: Always check the AI’s code and test frequently to catch bugs early.\\nGuide the AI: Treat it like a junior developer- provide clear feedback or examples to steer it.\\nLearn as You Go: Ask the AI to explain code to build your understanding.\\nSave Your Work: Use versioning to revert if needed.\\nExplore Community Resources: Check documentation for templates and tips to enhance your vibe coding experience.\\nLimitations to Watch For\\nBugs: AI-generated code can have errors or security flaws, so test thoroughly.\\nContext: AI may lose track of large projects- remind it of key details or use tools like Base44 that index your code for better context.\\nCode Quality: The output might work but be messy- prompt for refactoring if needed.\\nSo… did it vibe?\"]]\n"
     ]
    }
   ],
   "source": [
    "# READ POSTS\n",
    "posts = []\n",
    "\n",
    "# Top 3 articles:\n",
    "for i in range(1,4):\n",
    "    driver.find_element(By.XPATH, '//*[@id=\"main-content\"]/div[2]/shreddit-feed/article[{}]'.format(i)).click()\n",
    "    posts.append(read_post())\n",
    "    driver.back()\n",
    "\n",
    "print(posts)\n",
    "\n"
   ]
  },
  {
   "cell_type": "code",
   "execution_count": null,
   "id": "14a14f06",
   "metadata": {},
   "outputs": [
    {
     "name": "stdout",
     "output_type": "stream",
     "text": [
      "Hello there! I hope you're having a wonderful day; sending warm greetings and smiles today.\n"
     ]
    }
   ],
   "source": [
    "# TESTING GPT \n",
    " \n",
    "with open(\"GPT_key.txt\", \"r\") as f:\n",
    "    api_key = f.read().strip()\n",
    "client = OpenAI(api_key=api_key)\n",
    "\n",
    "# Test call\n",
    "resp = client.responses.create(\n",
    "    model=\"gpt-5\",\n",
    "    input=\"Say hi in 15 words.\"\n",
    ")\n",
    "print(resp.output_text)"
   ]
  },
  {
   "cell_type": "code",
   "execution_count": 68,
   "id": "cce539d2",
   "metadata": {},
   "outputs": [
    {
     "name": "stdout",
     "output_type": "stream",
     "text": [
      "<html>\n",
      "  <body style=\"font-family: Arial, Helvetica, sans-serif; color: #222; line-height: 1.5;\">\n",
      "    <div style=\"max-width: 680px; margin: 0 auto;\">\n",
      "      <h2 style=\"margin-top: 0;\">r/promptengineering — Weekly Synthesis</h2>\n",
      "      <p>\n",
      "        This week’s posts share one core idea: structure and clarity win. Define roles and goals, ask for clarifying questions, and turn vague tasks into checklists. Write like a human—active voice, simple words, no fluff. In build mode, iterate: draft → test → debug → refine. Treat the model like a junior teammate—give it context, constraints, and feedback.\n",
      "      </p>\n",
      "\n",
      "      <hr style=\"border: none; border-top: 1px solid #eee; margin: 20px 0;\" />\n",
      "\n",
      "      <h3>This prompt makes ChatGPT sound completely human — u/speak2klein</h3>\n",
      "      <p>TL;DR: A concise style guide prompt (active voice, simple language, no fluff) makes outputs sound human and consistent.</p>\n",
      "      <ul>\n",
      "        <li>Use active voice and address the reader (“you”) to keep prose direct and engaging.</li>\n",
      "        <li>Keep language simple and concise; vary sentence length for a natural rhythm.</li>\n",
      "        <li>Ban fluff: no clichés, jargon, hashtags, emojis, semicolons, dashes, or AI-filler phrases.</li>\n",
      "        <li>Prefer certainty over hedging when facts allow; remove redundancy; focus on clear, concrete instructions.</li>\n",
      "        <li>Avoid hype—replace marketing speak with plain claims; consider domain-tuned models if needed.</li>\n",
      "      </ul>\n",
      "\n",
      "      <h3>5 ChatGPT Frameworks That Will 10x Your Results (Copy + Paste) — u/tipseason</h3>\n",
      "      <p>TL;DR: Five simple frameworks—Role+Goal, 5Q Clarifier, Options→Compare→Decide, Iterative Refiner, Checklist Builder—upgrade outputs across use cases.</p>\n",
      "      <ul>\n",
      "        <li>Role + Goal: “You are [role]. My goal is [outcome]. Give a step-by-step plan.” Focuses tone and outcome.</li>\n",
      "        <li>5Q Clarifier: “Ask me 5 questions first, then answer.” Pulls context before solving.</li>\n",
      "        <li>Options → Compare → Decide: Request 3 approaches with pros/cons/risks and a recommendation.</li>\n",
      "        <li>Iterative Refiner: Draft → expand → tighten → polish. Mimics real editing loops.</li>\n",
      "        <li>Checklist Builder: Convert goals into steps with timelines, tools, and pitfalls.</li>\n",
      "      </ul>\n",
      "\n",
      "      <h3>Vibe Coding: A Beginner's Guide — u/BymaxTheVibeCoder</h3>\n",
      "      <p>TL;DR: Build apps by describing intent to AI, then iterating: generate, run, debug, refine.</p>\n",
      "      <ul>\n",
      "        <li>Vibe coding = describe features; AI writes code. Treat it like a junior dev that needs clear guidance.</li>\n",
      "        <li>Start small; tools like Cursor or Base44 help with in-editor chat and project context.</li>\n",
      "        <li>Prompt clearly, test each change, paste errors back, and ask for explanations or refactors.</li>\n",
      "        <li>Expect limits: bugs, context drift, and messy code—mitigate with smaller scopes and frequent checks.</li>\n",
      "        <li>Example: A to-do app built in a few prompts—structure → behavior → validation → persistence.</li>\n",
      "      </ul>\n",
      "\n",
      "      <hr style=\"border: none; border-top: 1px solid #eee; margin: 20px 0;\" />\n",
      "\n",
      "      <h3>Food for thought</h3>\n",
      "      <ul>\n",
      "        <li>Which single style rule (e.g., active voice) will you enforce in your next system prompt?</li>\n",
      "        <li>Where in your workflow can you add a “5Q Clarifier” to cut rewrites?</li>\n",
      "        <li>What decision this week deserves an Options → Compare → Decide pass?</li>\n",
      "        <li>Which fuzzy goal can you turn into a checklist with timelines today?</li>\n",
      "        <li>If you try vibe coding, what’s the smallest shippable slice you can build in one loop?</li>\n",
      "        <li>How will you measure improvement—speed, accuracy, or user satisfaction—after applying these frameworks?</li>\n",
      "      </ul>\n",
      "    </div>\n",
      "  </body>\n",
      "</html>\n"
     ]
    }
   ],
   "source": [
    "# RUNNING SUMMARIZER\n",
    "\n",
    "instructions = (\n",
    "    \"You are a concise editor who is writing blog posts that can be emailed. You specialise in AI finetunning and prompt engineering, \"\n",
    "    \"while making it easier for the general people to understand the nuances as well\"\n",
    "    \"Now you are tasked with creating summaries of top reddit posts on r/promptengineering. You need to create a concise yet powerful, \"\n",
    "    \"emailers from the content that I share with you. For each Reddit post, write:\\n\"\n",
    "    \"1. A one-line TL;DR\"\n",
    "    \"2. 4-5 key points\\n\"\n",
    "    \"But at the beginning, give an overall synthesis of common themes.\"\n",
    "    \"You also have to leave the reader with some questions/ food for thought at the end.\"\n",
    "    \"Please return an html body that can be directly emailed.\"\n",
    ")\n",
    "\n",
    "resp = client.responses.create(\n",
    "    model=\"gpt-5\",\n",
    "    input=json.dumps({\"instructions\": instructions, \"posts\": posts})\n",
    ")\n",
    "\n",
    "print(resp.output_text)\n"
   ]
  },
  {
   "cell_type": "code",
   "execution_count": 72,
   "id": "61f7b932",
   "metadata": {},
   "outputs": [
    {
     "name": "stdout",
     "output_type": "stream",
     "text": [
      "Sent.\n"
     ]
    }
   ],
   "source": [
    "# GMAIL EMAILER\n",
    "\n",
    "from __future__ import annotations\n",
    "from email.message import EmailMessage\n",
    "import base64, os, mimetypes, pathlib\n",
    "from google.oauth2.credentials import Credentials\n",
    "from google_auth_oauthlib.flow import InstalledAppFlow\n",
    "from googleapiclient.discovery import build\n",
    "\n",
    "SCOPES = [\"https://www.googleapis.com/auth/gmail.send\"]\n",
    "\n",
    "def get_gmail_service(client_secret=\"client_secret.json\", token_path=\"token.json\"):\n",
    "    creds = None\n",
    "    if os.path.exists(token_path):\n",
    "        creds = Credentials.from_authorized_user_file(token_path, SCOPES)\n",
    "    if not creds or not creds.valid:\n",
    "        flow = InstalledAppFlow.from_client_secrets_file(client_secret, SCOPES)\n",
    "        creds = flow.run_local_server(port=0)  # opens browser\n",
    "        with open(token_path, \"w\") as f:\n",
    "            f.write(creds.to_json())\n",
    "    return build(\"gmail\", \"v1\", credentials=creds)\n",
    "\n",
    "def build_message(sender, to, subject, html_body):\n",
    "    if isinstance(to, list): to = \", \".join(to)\n",
    "    msg = EmailMessage()\n",
    "    msg[\"From\"] = sender\n",
    "    msg[\"To\"] = to\n",
    "    msg[\"Subject\"] = subject\n",
    "    msg.set_content(\"Plaintext fallback\")\n",
    "    msg.add_alternative(html_body, subtype=\"html\")\n",
    "    raw = base64.urlsafe_b64encode(msg.as_bytes()).decode()\n",
    "    return {\"raw\": raw}\n",
    "\n",
    "service = get_gmail_service()\n",
    "message = build_message(\n",
    "    sender = \"11sahilkr@gmail.com\",\n",
    "    to = [\n",
    "        \"sumang24@iimb.ac.in\"\n",
    "          ], \n",
    "\n",
    "    subject = \"Reddit Weekly Emailer: r/promptengineering\",\n",
    "    html_body = resp.output_text,\n",
    ")\n",
    "service.users().messages().send(userId=\"me\", body=message).execute()\n",
    "print(\"Sent.\")\n"
   ]
  }
 ],
 "metadata": {
  "kernelspec": {
   "display_name": "Python 3",
   "language": "python",
   "name": "python3"
  },
  "language_info": {
   "codemirror_mode": {
    "name": "ipython",
    "version": 3
   },
   "file_extension": ".py",
   "mimetype": "text/x-python",
   "name": "python",
   "nbconvert_exporter": "python",
   "pygments_lexer": "ipython3",
   "version": "3.11.5"
  }
 },
 "nbformat": 4,
 "nbformat_minor": 5
}
